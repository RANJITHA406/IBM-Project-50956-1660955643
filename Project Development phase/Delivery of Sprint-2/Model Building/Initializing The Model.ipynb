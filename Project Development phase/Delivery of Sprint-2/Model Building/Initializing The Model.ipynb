{
 "cells": [
  {
   "cell_type": "code",
   "execution_count": 9,
   "id": "ab227a42",
   "metadata": {},
   "outputs": [],
   "source": [
    "from tensorflow.keras.preprocessing.image import ImageDataGenerator"
   ]
  },
  {
   "cell_type": "code",
   "execution_count": 10,
   "id": "96563b70",
   "metadata": {},
   "outputs": [],
   "source": [
    "spatial_dropout=0.05\n",
    "recurrent_dropout=0.1"
   ]
  },
  {
   "cell_type": "code",
   "execution_count": 11,
   "id": "6b92eff7",
   "metadata": {},
   "outputs": [],
   "source": [
    "# Training Datagen\n",
    "train_datagen = ImageDataGenerator(rescale=1/255,zoom_range=0.2,horizontal_flip=True,vertical_flip=False)\n",
    "# Testing Datagen\n",
    "test_datagen = ImageDataGenerator(rescale=1/255)"
   ]
  },
  {
   "cell_type": "code",
   "execution_count": 12,
   "id": "822c268c",
   "metadata": {},
   "outputs": [
    {
     "name": "stdout",
     "output_type": "stream",
     "text": [
      "Found 15750 images belonging to 9 classes.\n",
      "Found 2250 images belonging to 9 classes.\n"
     ]
    }
   ],
   "source": [
    "# Training Dataset\n",
    "x_train=train_datagen.flow_from_directory('C:/Users/minec/Desktop/IBM PROJECT/Dataset/training_set',target_size=(64,64), class_mode='categorical',batch_size=900)\n",
    "# Testing Dataset\n",
    "x_test=test_datagen.flow_from_directory('C:/Users/minec/Desktop/IBM PROJECT/Dataset/test_set',target_size=(64,64), class_mode='categorical',batch_size=900)"
   ]
  },
  {
   "cell_type": "code",
   "execution_count": 13,
   "id": "5b454613",
   "metadata": {},
   "outputs": [
    {
     "name": "stdout",
     "output_type": "stream",
     "text": [
      "Len x-train :  18\n",
      "Len x-test :  3\n"
     ]
    }
   ],
   "source": [
    "print(\"Len x-train : \", len(x_train))\n",
    "print(\"Len x-test : \", len(x_test))"
   ]
  },
  {
   "cell_type": "code",
   "execution_count": 14,
   "id": "09daa865",
   "metadata": {},
   "outputs": [
    {
     "data": {
      "text/plain": [
       "{'A': 0, 'B': 1, 'C': 2, 'D': 3, 'E': 4, 'F': 5, 'G': 6, 'H': 7, 'I': 8}"
      ]
     },
     "execution_count": 14,
     "metadata": {},
     "output_type": "execute_result"
    }
   ],
   "source": [
    "# The Class Indices in Training Dataset\n",
    "x_train.class_indices"
   ]
  },
  {
   "cell_type": "code",
   "execution_count": 15,
   "id": "575e6857",
   "metadata": {},
   "outputs": [],
   "source": [
    "# Importing Libraries\n",
    "from tensorflow.keras.models import Sequential\n",
    "from tensorflow.keras.layers import Convolution2D,MaxPooling2D,Flatten,Dense"
   ]
  },
  {
   "cell_type": "code",
   "execution_count": 16,
   "id": "ce660024",
   "metadata": {},
   "outputs": [],
   "source": [
    "# Creating Model\n",
    "model=Sequential()"
   ]
  },
  {
   "cell_type": "code",
   "execution_count": null,
   "id": "f176d430",
   "metadata": {},
   "outputs": [],
   "source": []
  }
 ],
 "metadata": {
  "kernelspec": {
   "display_name": "Python 3 (ipykernel)",
   "language": "python",
   "name": "python3"
  },
  "language_info": {
   "codemirror_mode": {
    "name": "ipython",
    "version": 3
   },
   "file_extension": ".py",
   "mimetype": "text/x-python",
   "name": "python",
   "nbconvert_exporter": "python",
   "pygments_lexer": "ipython3",
   "version": "3.9.13"
  }
 },
 "nbformat": 4,
 "nbformat_minor": 5
}
