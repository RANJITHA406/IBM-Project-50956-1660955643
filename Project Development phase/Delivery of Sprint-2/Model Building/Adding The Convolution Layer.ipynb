{
 "cells": [
  {
   "cell_type": "code",
   "execution_count": null,
   "id": "c32d4118",
   "metadata": {},
   "outputs": [],
   "source": [
    "import numpy as np\n",
    "import matplotlib.pyplot as plt"
   ]
  },
  {
   "cell_type": "code",
   "execution_count": null,
   "id": "8cf8641a",
   "metadata": {},
   "outputs": [],
   "source": [
    "from tensorflow.keras.preprocessing.image import ImageDataGenerator"
   ]
  },
  {
   "cell_type": "code",
   "execution_count": null,
   "id": "178ebd00",
   "metadata": {},
   "outputs": [],
   "source": [
    "# Training Datagen\n",
    "train_datagen = ImageDataGenerator(rescale=1/255,zoom_range=0.2,horizontal_flip=True,vertical_flip=False)\n",
    "# Testing Datagen\n",
    "test_datagen = ImageDataGenerator(rescale=1/255)"
   ]
  },
  {
   "cell_type": "code",
   "execution_count": null,
   "id": "e6c60f87",
   "metadata": {},
   "outputs": [
    {
     "name": "stdout",
     "output_type": "stream",
     "text": [
      "Found 15750 images belonging to 9 classes.\n",
      "Found 2250 images belonging to 9 classes.\n"
     ]
    }
   ],
   "source": [
    "# Training Dataset\n",
    "x_train=train_datagen.flow_from_directory('C:/Users/minec/Desktop/IBM PROJECT/Dataset/training_set',target_size=(64,64), class_mode='categorical',batch_size=900)\n",
    "# Testing Dataset\n",
    "x_test=test_datagen.flow_from_directory('C:/Users/minec/Desktop/IBM PROJECT/Dataset/test_set',target_size=(64,64), class_mode='categorical',batch_size=900)"
   ]
  },
  {
   "cell_type": "code",
   "execution_count": null,
   "id": "2e855918",
   "metadata": {},
   "outputs": [
    {
     "name": "stdout",
     "output_type": "stream",
     "text": [
      "[[ 2  2]\n",
      " [-2 -2]] is a kernel for detecting horizontal edges\n",
      "[[ 2 -2]\n",
      " [ 2 -2]] is a kernel for detecting vertical edges\n"
     ]
    }
   ],
   "source": [
    "# let img1 be an image with no features\n",
    "img1 = np.array([np.array([200, 200]), np.array([200, 200])])\n",
    "img2 = np.array([np.array([200, 200]), np.array([0, 0])])\n",
    "img3 = np.array([np.array([200, 0]), np.array([200, 0])])\n",
    "  \n",
    "kernel_horizontal = np.array([np.array([2, 2]), np.array([-2, -2])])\n",
    "print(kernel_horizontal, 'is a kernel for detecting horizontal edges')\n",
    "  \n",
    "kernel_vertical = np.array([np.array([2, -2]), np.array([2, -2])])\n",
    "print(kernel_vertical, 'is a kernel for detecting vertical edges')"
   ]
  },
  {
   "cell_type": "code",
   "execution_count": null,
   "id": "670883a0",
   "metadata": {},
   "outputs": [
    {
     "data": {
      "image/png": "[encoded data removed]",
      "text/plain": [
       "<Figure size 640x480 with 1 Axes>"
      ]
     },
     "metadata": {},
     "output_type": "display_data"
    },
    {
     "name": "stdout",
     "output_type": "stream",
     "text": [
      "Horizontal edge confidence score: 0\n",
      "Vertical edge confidence score: 0\n"
     ]
    }
   ],
   "source": [
    "# We will apply the kernels on the images by\n",
    "# elementwise multiplication followed by summation\n",
    "def apply_kernel(img, kernel):\n",
    "    return np.sum(np.multiply(img, kernel))\n",
    "  \n",
    "# Visualizing img1\n",
    "plt.imshow(img1)\n",
    "plt.axis('off')\n",
    "plt.title('img1')\n",
    "plt.show()\n",
    "\n",
    "# Checking for horizontal and vertical features in image1\n",
    "print('Horizontal edge confidence score:', apply_kernel(img1, \n",
    "                                            kernel_horizontal))\n",
    "print('Vertical edge confidence score:', apply_kernel(img1, \n",
    "                                            kernel_vertical))"
   ]
  },
  {
   "cell_type": "code",
   "execution_count": null,
   "id": "ac969f29",
   "metadata": {},
   "outputs": [
    {
     "data": {
      "image/png": "[encoded data removed]",
      "text/plain": [
       "<Figure size 640x480 with 1 Axes>"
      ]
     },
     "metadata": {},
     "output_type": "display_data"
    },
    {
     "name": "stdout",
     "output_type": "stream",
     "text": [
      "Horizontal edge confidence score: 800\n",
      "Vertical edge confidence score: 0\n"
     ]
    }
   ],
   "source": [
    "# Visualizing img2\n",
    "plt.imshow(img2)\n",
    "plt.axis('off')\n",
    "plt.title('img2')\n",
    "plt.show()\n",
    "\n",
    "# Checking for horizontal and vertical features in image2\n",
    "print('Horizontal edge confidence score:', apply_kernel(img2, \n",
    "                                            kernel_horizontal))\n",
    "print('Vertical edge confidence score:', apply_kernel(img2, \n",
    "                                            kernel_vertical))"
   ]
  },
  {
   "cell_type": "code",
   "execution_count": null,
   "id": "fc166a1b",
   "metadata": {},
   "outputs": [
    {
     "data": {
      "image/png": "[encoded data removed]",
      "text/plain": [
       "<Figure size 640x480 with 1 Axes>"
      ]
     },
     "metadata": {},
     "output_type": "display_data"
    },
    {
     "name": "stdout",
     "output_type": "stream",
     "text": [
      "Horizontal edge confidence score: 0\n",
      "Vertical edge confidence score: 800\n"
     ]
    }
   ],
   "source": [
    "# Visualizing img3\n",
    "plt.imshow(img3)\n",
    "plt.axis('off')\n",
    "plt.title('img3')\n",
    "plt.show()\n",
    "  \n",
    "# Checking for horizontal and vertical features in image3\n",
    "print('Horizontal edge confidence score:', apply_kernel(img3, \n",
    "                                            kernel_horizontal))\n",
    "print('Vertical edge confidence score:', apply_kernel(img3, \n",
    "                                            kernel_vertical))"
   ]
  },
  {
   "cell_type": "code",
   "execution_count": null,
   "id": "726bb8aa",
   "metadata": {},
   "outputs": [
    {
     "name": "stdout",
     "output_type": "stream",
     "text": [
      "Len x-train :  18\n",
      "Len x-test :  3\n"
     ]
    }
   ],
   "source": [
    "print(\"Len x-train : \", len(x_train))\n",
    "print(\"Len x-test : \", len(x_test))"
   ]
  },
  {
   "cell_type": "code",
   "execution_count": null,
   "id": "60dbaf96",
   "metadata": {},
   "outputs": [
    {
     "data": {
      "text/plain": [
       "{'A': 0, 'B': 1, 'C': 2, 'D': 3, 'E': 4, 'F': 5, 'G': 6, 'H': 7, 'I': 8}"
      ]
     },
     "execution_count": 11,
     "metadata": {},
     "output_type": "execute_result"
    }
   ],
   "source": [
    "# The Class Indices in Training Dataset\n",
    "x_train.class_indices"
   ]
  },
  {
   "cell_type": "code",
   "execution_count": null,
   "id": "66045670",
   "metadata": {},
   "outputs": [],
   "source": [
    "# Importing Libraries\n",
    "from tensorflow.keras.models import Sequential\n",
    "from tensorflow.keras.layers import Convolution2D,MaxPooling2D,Flatten,Dense"
   ]
  },
  {
   "cell_type": "code",
   "execution_count": null,
   "id": "472b3cd5",
   "metadata": {},
   "outputs": [],
   "source": [
    "# Creating Model\n",
    "model=Sequential()"
   ]
  },
  {
   "cell_type": "code",
   "execution_count": null,
   "id": "14313d55",
   "metadata": {},
   "outputs": [],
   "source": [
    "# Adding Layers\n",
    "model.add(Convolution2D(32,(3,3),activation='relu',input_shape=(64,64,3)))"
   ]
  },
  {
   "cell_type": "code",
   "execution_count": null,
   "id": "231079f4",
   "metadata": {},
   "outputs": [],
   "source": []
  }
 ],
 "metadata": {
  "kernelspec": {
   "display_name": "Python 3.10.4 64-bit",
   "language": "python",
   "name": "python3"
  },
  "language_info": {
   "codemirror_mode": {
    "name": "ipython",
    "version": 3
   },
   "file_extension": ".py",
   "mimetype": "text/x-python",
   "name": "python",
   "nbconvert_exporter": "python",
   "pygments_lexer": "ipython3",
   "version": "3.10.4"
  },
  "vscode": {
   "interpreter": {
    "hash": "29cdd338a859eb8ddb8d9e6de1e9a786cc195b4794dbad91bbb2ad00c80487b2"
   }
  }
 },
 "nbformat": 4,
 "nbformat_minor": 5
}
